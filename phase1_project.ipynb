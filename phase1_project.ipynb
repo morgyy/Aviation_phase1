{
 "cells": [
  {
   "cell_type": "markdown",
   "id": "6fc1b0e3-61fc-48c8-873c-7184c51333d2",
   "metadata": {},
   "source": [
    "# PROJECT PHASE 1"
   ]
  },
  {
   "cell_type": "markdown",
   "id": "8f6b13dc-0011-42b7-87fc-fbe4e3727e2b",
   "metadata": {},
   "source": [
    "# Objectives\n",
    " * To clean data\n",
    " * Crry out data Analysis\n",
    " * Visualization of the data\n",
    "\n",
    "# Goals \n",
    " \n",
    "\n",
    " * Do accidents reduce as time goes by\n",
    " * If weather conditions play a role in aircraft accidents\n",
    " * How purpose of flight affects aircraft accidents\n",
    " * Is there a correlation between an aircraft make and its damage\n",
    " * Effect of flight purpose to accidents\n",
    " * Do engine type have an effect on aircraft accidents\n",
    " * Safest aircraft category\n",
    " \n",
    "\n"
   ]
  },
  {
   "cell_type": "code",
   "execution_count": 1,
   "id": "a6a8d20e-50ad-44f8-ad41-4031da4c13f1",
   "metadata": {},
   "outputs": [],
   "source": [
    "# Importing the necessary libraries\n",
    "import pandas as pd \n",
    "import matplotlib.pyplot as plt\n",
    "import seaborn as sns"
   ]
  },
  {
   "cell_type": "code",
   "execution_count": 2,
   "id": "a48e2069-26a9-41ff-a87a-49ad6961173a",
   "metadata": {
    "scrolled": true
   },
   "outputs": [
    {
     "name": "stderr",
     "output_type": "stream",
     "text": [
      "C:\\Users\\user\\AppData\\Local\\Temp\\ipykernel_17744\\1204526309.py:1: DtypeWarning: Columns (6,7,28) have mixed types. Specify dtype option on import or set low_memory=False.\n",
      "  df = pd.read_csv('C:\\\\Users\\\\user\\\\Downloads\\\\archive (1)\\\\AviationData.csv', encoding='ISO-8859-1')\n"
     ]
    },
    {
     "data": {
      "text/html": [
       "<div>\n",
       "<style scoped>\n",
       "    .dataframe tbody tr th:only-of-type {\n",
       "        vertical-align: middle;\n",
       "    }\n",
       "\n",
       "    .dataframe tbody tr th {\n",
       "        vertical-align: top;\n",
       "    }\n",
       "\n",
       "    .dataframe thead th {\n",
       "        text-align: right;\n",
       "    }\n",
       "</style>\n",
       "<table border=\"1\" class=\"dataframe\">\n",
       "  <thead>\n",
       "    <tr style=\"text-align: right;\">\n",
       "      <th></th>\n",
       "      <th>Event.Id</th>\n",
       "      <th>Investigation.Type</th>\n",
       "      <th>Accident.Number</th>\n",
       "      <th>Event.Date</th>\n",
       "      <th>Location</th>\n",
       "      <th>Country</th>\n",
       "      <th>Latitude</th>\n",
       "      <th>Longitude</th>\n",
       "      <th>Airport.Code</th>\n",
       "      <th>Airport.Name</th>\n",
       "      <th>...</th>\n",
       "      <th>Purpose.of.flight</th>\n",
       "      <th>Air.carrier</th>\n",
       "      <th>Total.Fatal.Injuries</th>\n",
       "      <th>Total.Serious.Injuries</th>\n",
       "      <th>Total.Minor.Injuries</th>\n",
       "      <th>Total.Uninjured</th>\n",
       "      <th>Weather.Condition</th>\n",
       "      <th>Broad.phase.of.flight</th>\n",
       "      <th>Report.Status</th>\n",
       "      <th>Publication.Date</th>\n",
       "    </tr>\n",
       "  </thead>\n",
       "  <tbody>\n",
       "    <tr>\n",
       "      <th>0</th>\n",
       "      <td>20001218X45444</td>\n",
       "      <td>Accident</td>\n",
       "      <td>SEA87LA080</td>\n",
       "      <td>1948-10-24</td>\n",
       "      <td>MOOSE CREEK, ID</td>\n",
       "      <td>United States</td>\n",
       "      <td>NaN</td>\n",
       "      <td>NaN</td>\n",
       "      <td>NaN</td>\n",
       "      <td>NaN</td>\n",
       "      <td>...</td>\n",
       "      <td>Personal</td>\n",
       "      <td>NaN</td>\n",
       "      <td>2.0</td>\n",
       "      <td>0.0</td>\n",
       "      <td>0.0</td>\n",
       "      <td>0.0</td>\n",
       "      <td>UNK</td>\n",
       "      <td>Cruise</td>\n",
       "      <td>Probable Cause</td>\n",
       "      <td>NaN</td>\n",
       "    </tr>\n",
       "    <tr>\n",
       "      <th>1</th>\n",
       "      <td>20001218X45447</td>\n",
       "      <td>Accident</td>\n",
       "      <td>LAX94LA336</td>\n",
       "      <td>1962-07-19</td>\n",
       "      <td>BRIDGEPORT, CA</td>\n",
       "      <td>United States</td>\n",
       "      <td>NaN</td>\n",
       "      <td>NaN</td>\n",
       "      <td>NaN</td>\n",
       "      <td>NaN</td>\n",
       "      <td>...</td>\n",
       "      <td>Personal</td>\n",
       "      <td>NaN</td>\n",
       "      <td>4.0</td>\n",
       "      <td>0.0</td>\n",
       "      <td>0.0</td>\n",
       "      <td>0.0</td>\n",
       "      <td>UNK</td>\n",
       "      <td>Unknown</td>\n",
       "      <td>Probable Cause</td>\n",
       "      <td>19-09-1996</td>\n",
       "    </tr>\n",
       "    <tr>\n",
       "      <th>2</th>\n",
       "      <td>20061025X01555</td>\n",
       "      <td>Accident</td>\n",
       "      <td>NYC07LA005</td>\n",
       "      <td>1974-08-30</td>\n",
       "      <td>Saltville, VA</td>\n",
       "      <td>United States</td>\n",
       "      <td>36.922223</td>\n",
       "      <td>-81.878056</td>\n",
       "      <td>NaN</td>\n",
       "      <td>NaN</td>\n",
       "      <td>...</td>\n",
       "      <td>Personal</td>\n",
       "      <td>NaN</td>\n",
       "      <td>3.0</td>\n",
       "      <td>NaN</td>\n",
       "      <td>NaN</td>\n",
       "      <td>NaN</td>\n",
       "      <td>IMC</td>\n",
       "      <td>Cruise</td>\n",
       "      <td>Probable Cause</td>\n",
       "      <td>26-02-2007</td>\n",
       "    </tr>\n",
       "    <tr>\n",
       "      <th>3</th>\n",
       "      <td>20001218X45448</td>\n",
       "      <td>Accident</td>\n",
       "      <td>LAX96LA321</td>\n",
       "      <td>1977-06-19</td>\n",
       "      <td>EUREKA, CA</td>\n",
       "      <td>United States</td>\n",
       "      <td>NaN</td>\n",
       "      <td>NaN</td>\n",
       "      <td>NaN</td>\n",
       "      <td>NaN</td>\n",
       "      <td>...</td>\n",
       "      <td>Personal</td>\n",
       "      <td>NaN</td>\n",
       "      <td>2.0</td>\n",
       "      <td>0.0</td>\n",
       "      <td>0.0</td>\n",
       "      <td>0.0</td>\n",
       "      <td>IMC</td>\n",
       "      <td>Cruise</td>\n",
       "      <td>Probable Cause</td>\n",
       "      <td>12-09-2000</td>\n",
       "    </tr>\n",
       "    <tr>\n",
       "      <th>4</th>\n",
       "      <td>20041105X01764</td>\n",
       "      <td>Accident</td>\n",
       "      <td>CHI79FA064</td>\n",
       "      <td>1979-08-02</td>\n",
       "      <td>Canton, OH</td>\n",
       "      <td>United States</td>\n",
       "      <td>NaN</td>\n",
       "      <td>NaN</td>\n",
       "      <td>NaN</td>\n",
       "      <td>NaN</td>\n",
       "      <td>...</td>\n",
       "      <td>Personal</td>\n",
       "      <td>NaN</td>\n",
       "      <td>1.0</td>\n",
       "      <td>2.0</td>\n",
       "      <td>NaN</td>\n",
       "      <td>0.0</td>\n",
       "      <td>VMC</td>\n",
       "      <td>Approach</td>\n",
       "      <td>Probable Cause</td>\n",
       "      <td>16-04-1980</td>\n",
       "    </tr>\n",
       "  </tbody>\n",
       "</table>\n",
       "<p>5 rows × 31 columns</p>\n",
       "</div>"
      ],
      "text/plain": [
       "         Event.Id Investigation.Type Accident.Number  Event.Date  \\\n",
       "0  20001218X45444           Accident      SEA87LA080  1948-10-24   \n",
       "1  20001218X45447           Accident      LAX94LA336  1962-07-19   \n",
       "2  20061025X01555           Accident      NYC07LA005  1974-08-30   \n",
       "3  20001218X45448           Accident      LAX96LA321  1977-06-19   \n",
       "4  20041105X01764           Accident      CHI79FA064  1979-08-02   \n",
       "\n",
       "          Location        Country   Latitude  Longitude Airport.Code  \\\n",
       "0  MOOSE CREEK, ID  United States        NaN        NaN          NaN   \n",
       "1   BRIDGEPORT, CA  United States        NaN        NaN          NaN   \n",
       "2    Saltville, VA  United States  36.922223 -81.878056          NaN   \n",
       "3       EUREKA, CA  United States        NaN        NaN          NaN   \n",
       "4       Canton, OH  United States        NaN        NaN          NaN   \n",
       "\n",
       "  Airport.Name  ... Purpose.of.flight Air.carrier Total.Fatal.Injuries  \\\n",
       "0          NaN  ...          Personal         NaN                  2.0   \n",
       "1          NaN  ...          Personal         NaN                  4.0   \n",
       "2          NaN  ...          Personal         NaN                  3.0   \n",
       "3          NaN  ...          Personal         NaN                  2.0   \n",
       "4          NaN  ...          Personal         NaN                  1.0   \n",
       "\n",
       "  Total.Serious.Injuries Total.Minor.Injuries Total.Uninjured  \\\n",
       "0                    0.0                  0.0             0.0   \n",
       "1                    0.0                  0.0             0.0   \n",
       "2                    NaN                  NaN             NaN   \n",
       "3                    0.0                  0.0             0.0   \n",
       "4                    2.0                  NaN             0.0   \n",
       "\n",
       "  Weather.Condition  Broad.phase.of.flight   Report.Status Publication.Date  \n",
       "0               UNK                 Cruise  Probable Cause              NaN  \n",
       "1               UNK                Unknown  Probable Cause       19-09-1996  \n",
       "2               IMC                 Cruise  Probable Cause       26-02-2007  \n",
       "3               IMC                 Cruise  Probable Cause       12-09-2000  \n",
       "4               VMC               Approach  Probable Cause       16-04-1980  \n",
       "\n",
       "[5 rows x 31 columns]"
      ]
     },
     "execution_count": 2,
     "metadata": {},
     "output_type": "execute_result"
    }
   ],
   "source": [
    "df = pd.read_csv('C:\\\\Users\\\\user\\\\Downloads\\\\archive (1)\\\\AviationData.csv', encoding='ISO-8859-1')\n",
    "df.head()"
   ]
  },
  {
   "cell_type": "code",
   "execution_count": 3,
   "id": "d90cbd93-ae78-4ea8-897b-38b9934ebe8c",
   "metadata": {},
   "outputs": [
    {
     "data": {
      "text/plain": [
       "(88889, 31)"
      ]
     },
     "execution_count": 3,
     "metadata": {},
     "output_type": "execute_result"
    }
   ],
   "source": [
    "df.shape"
   ]
  },
  {
   "cell_type": "code",
   "execution_count": 4,
   "id": "981dc57a-1d94-4cf0-b3bd-d3ddf5d0e1e0",
   "metadata": {},
   "outputs": [
    {
     "data": {
      "text/plain": [
       "Event.Id                   object\n",
       "Investigation.Type         object\n",
       "Accident.Number            object\n",
       "Event.Date                 object\n",
       "Location                   object\n",
       "Country                    object\n",
       "Latitude                   object\n",
       "Longitude                  object\n",
       "Airport.Code               object\n",
       "Airport.Name               object\n",
       "Injury.Severity            object\n",
       "Aircraft.damage            object\n",
       "Aircraft.Category          object\n",
       "Registration.Number        object\n",
       "Make                       object\n",
       "Model                      object\n",
       "Amateur.Built              object\n",
       "Number.of.Engines         float64\n",
       "Engine.Type                object\n",
       "FAR.Description            object\n",
       "Schedule                   object\n",
       "Purpose.of.flight          object\n",
       "Air.carrier                object\n",
       "Total.Fatal.Injuries      float64\n",
       "Total.Serious.Injuries    float64\n",
       "Total.Minor.Injuries      float64\n",
       "Total.Uninjured           float64\n",
       "Weather.Condition          object\n",
       "Broad.phase.of.flight      object\n",
       "Report.Status              object\n",
       "Publication.Date           object\n",
       "dtype: object"
      ]
     },
     "execution_count": 4,
     "metadata": {},
     "output_type": "execute_result"
    }
   ],
   "source": [
    "df.dtypes"
   ]
  },
  {
   "cell_type": "code",
   "execution_count": 5,
   "id": "46acf325-fc3c-4896-8ba8-899331c6999c",
   "metadata": {},
   "outputs": [
    {
     "name": "stdout",
     "output_type": "stream",
     "text": [
      "<class 'pandas.core.frame.DataFrame'>\n",
      "RangeIndex: 88889 entries, 0 to 88888\n",
      "Data columns (total 31 columns):\n",
      " #   Column                  Non-Null Count  Dtype  \n",
      "---  ------                  --------------  -----  \n",
      " 0   Event.Id                88889 non-null  object \n",
      " 1   Investigation.Type      88889 non-null  object \n",
      " 2   Accident.Number         88889 non-null  object \n",
      " 3   Event.Date              88889 non-null  object \n",
      " 4   Location                88837 non-null  object \n",
      " 5   Country                 88663 non-null  object \n",
      " 6   Latitude                34382 non-null  object \n",
      " 7   Longitude               34373 non-null  object \n",
      " 8   Airport.Code            50132 non-null  object \n",
      " 9   Airport.Name            52704 non-null  object \n",
      " 10  Injury.Severity         87889 non-null  object \n",
      " 11  Aircraft.damage         85695 non-null  object \n",
      " 12  Aircraft.Category       32287 non-null  object \n",
      " 13  Registration.Number     87507 non-null  object \n",
      " 14  Make                    88826 non-null  object \n",
      " 15  Model                   88797 non-null  object \n",
      " 16  Amateur.Built           88787 non-null  object \n",
      " 17  Number.of.Engines       82805 non-null  float64\n",
      " 18  Engine.Type             81793 non-null  object \n",
      " 19  FAR.Description         32023 non-null  object \n",
      " 20  Schedule                12582 non-null  object \n",
      " 21  Purpose.of.flight       82697 non-null  object \n",
      " 22  Air.carrier             16648 non-null  object \n",
      " 23  Total.Fatal.Injuries    77488 non-null  float64\n",
      " 24  Total.Serious.Injuries  76379 non-null  float64\n",
      " 25  Total.Minor.Injuries    76956 non-null  float64\n",
      " 26  Total.Uninjured         82977 non-null  float64\n",
      " 27  Weather.Condition       84397 non-null  object \n",
      " 28  Broad.phase.of.flight   61724 non-null  object \n",
      " 29  Report.Status           82505 non-null  object \n",
      " 30  Publication.Date        75118 non-null  object \n",
      "dtypes: float64(5), object(26)\n",
      "memory usage: 21.0+ MB\n"
     ]
    }
   ],
   "source": [
    "df.info()"
   ]
  },
  {
   "cell_type": "code",
   "execution_count": 6,
   "id": "75f0dd40-d486-4b25-a997-bf0cc402517e",
   "metadata": {},
   "outputs": [
    {
     "data": {
      "text/plain": [
       "Event.Id                      0\n",
       "Investigation.Type            0\n",
       "Accident.Number               0\n",
       "Event.Date                    0\n",
       "Location                     52\n",
       "Country                     226\n",
       "Latitude                  54507\n",
       "Longitude                 54516\n",
       "Airport.Code              38757\n",
       "Airport.Name              36185\n",
       "Injury.Severity            1000\n",
       "Aircraft.damage            3194\n",
       "Aircraft.Category         56602\n",
       "Registration.Number        1382\n",
       "Make                         63\n",
       "Model                        92\n",
       "Amateur.Built               102\n",
       "Number.of.Engines          6084\n",
       "Engine.Type                7096\n",
       "FAR.Description           56866\n",
       "Schedule                  76307\n",
       "Purpose.of.flight          6192\n",
       "Air.carrier               72241\n",
       "Total.Fatal.Injuries      11401\n",
       "Total.Serious.Injuries    12510\n",
       "Total.Minor.Injuries      11933\n",
       "Total.Uninjured            5912\n",
       "Weather.Condition          4492\n",
       "Broad.phase.of.flight     27165\n",
       "Report.Status              6384\n",
       "Publication.Date          13771\n",
       "dtype: int64"
      ]
     },
     "execution_count": 6,
     "metadata": {},
     "output_type": "execute_result"
    }
   ],
   "source": [
    "# Checking for missing values\n",
    "df.isna().sum()"
   ]
  },
  {
   "cell_type": "code",
   "execution_count": 7,
   "id": "eb8a3d77-0bf7-4ed4-987a-17e14fdef515",
   "metadata": {},
   "outputs": [
    {
     "data": {
      "text/html": [
       "<div>\n",
       "<style scoped>\n",
       "    .dataframe tbody tr th:only-of-type {\n",
       "        vertical-align: middle;\n",
       "    }\n",
       "\n",
       "    .dataframe tbody tr th {\n",
       "        vertical-align: top;\n",
       "    }\n",
       "\n",
       "    .dataframe thead th {\n",
       "        text-align: right;\n",
       "    }\n",
       "</style>\n",
       "<table border=\"1\" class=\"dataframe\">\n",
       "  <thead>\n",
       "    <tr style=\"text-align: right;\">\n",
       "      <th></th>\n",
       "      <th>Number.of.Engines</th>\n",
       "      <th>Total.Fatal.Injuries</th>\n",
       "      <th>Total.Serious.Injuries</th>\n",
       "      <th>Total.Minor.Injuries</th>\n",
       "      <th>Total.Uninjured</th>\n",
       "    </tr>\n",
       "  </thead>\n",
       "  <tbody>\n",
       "    <tr>\n",
       "      <th>count</th>\n",
       "      <td>82805.000000</td>\n",
       "      <td>77488.000000</td>\n",
       "      <td>76379.000000</td>\n",
       "      <td>76956.000000</td>\n",
       "      <td>82977.000000</td>\n",
       "    </tr>\n",
       "    <tr>\n",
       "      <th>mean</th>\n",
       "      <td>1.146585</td>\n",
       "      <td>0.647855</td>\n",
       "      <td>0.279881</td>\n",
       "      <td>0.357061</td>\n",
       "      <td>5.325440</td>\n",
       "    </tr>\n",
       "    <tr>\n",
       "      <th>std</th>\n",
       "      <td>0.446510</td>\n",
       "      <td>5.485960</td>\n",
       "      <td>1.544084</td>\n",
       "      <td>2.235625</td>\n",
       "      <td>27.913634</td>\n",
       "    </tr>\n",
       "    <tr>\n",
       "      <th>min</th>\n",
       "      <td>0.000000</td>\n",
       "      <td>0.000000</td>\n",
       "      <td>0.000000</td>\n",
       "      <td>0.000000</td>\n",
       "      <td>0.000000</td>\n",
       "    </tr>\n",
       "    <tr>\n",
       "      <th>25%</th>\n",
       "      <td>1.000000</td>\n",
       "      <td>0.000000</td>\n",
       "      <td>0.000000</td>\n",
       "      <td>0.000000</td>\n",
       "      <td>0.000000</td>\n",
       "    </tr>\n",
       "    <tr>\n",
       "      <th>50%</th>\n",
       "      <td>1.000000</td>\n",
       "      <td>0.000000</td>\n",
       "      <td>0.000000</td>\n",
       "      <td>0.000000</td>\n",
       "      <td>1.000000</td>\n",
       "    </tr>\n",
       "    <tr>\n",
       "      <th>75%</th>\n",
       "      <td>1.000000</td>\n",
       "      <td>0.000000</td>\n",
       "      <td>0.000000</td>\n",
       "      <td>0.000000</td>\n",
       "      <td>2.000000</td>\n",
       "    </tr>\n",
       "    <tr>\n",
       "      <th>max</th>\n",
       "      <td>8.000000</td>\n",
       "      <td>349.000000</td>\n",
       "      <td>161.000000</td>\n",
       "      <td>380.000000</td>\n",
       "      <td>699.000000</td>\n",
       "    </tr>\n",
       "  </tbody>\n",
       "</table>\n",
       "</div>"
      ],
      "text/plain": [
       "       Number.of.Engines  Total.Fatal.Injuries  Total.Serious.Injuries  \\\n",
       "count       82805.000000          77488.000000            76379.000000   \n",
       "mean            1.146585              0.647855                0.279881   \n",
       "std             0.446510              5.485960                1.544084   \n",
       "min             0.000000              0.000000                0.000000   \n",
       "25%             1.000000              0.000000                0.000000   \n",
       "50%             1.000000              0.000000                0.000000   \n",
       "75%             1.000000              0.000000                0.000000   \n",
       "max             8.000000            349.000000              161.000000   \n",
       "\n",
       "       Total.Minor.Injuries  Total.Uninjured  \n",
       "count          76956.000000     82977.000000  \n",
       "mean               0.357061         5.325440  \n",
       "std                2.235625        27.913634  \n",
       "min                0.000000         0.000000  \n",
       "25%                0.000000         0.000000  \n",
       "50%                0.000000         1.000000  \n",
       "75%                0.000000         2.000000  \n",
       "max              380.000000       699.000000  "
      ]
     },
     "execution_count": 7,
     "metadata": {},
     "output_type": "execute_result"
    }
   ],
   "source": [
    "df.describe()"
   ]
  },
  {
   "cell_type": "code",
   "execution_count": 8,
   "id": "99d5caad-f2ff-40b0-a4ec-0d029364995f",
   "metadata": {},
   "outputs": [
    {
     "data": {
      "text/plain": [
       "Event.Id                      0\n",
       "Investigation.Type            0\n",
       "Accident.Number               0\n",
       "Event.Date                    0\n",
       "Location                     52\n",
       "Country                     226\n",
       "Latitude                  54507\n",
       "Longitude                 54516\n",
       "Airport.Code              38757\n",
       "Airport.Name              36185\n",
       "Injury.Severity            1000\n",
       "Aircraft.damage            3194\n",
       "Aircraft.Category         56602\n",
       "Registration.Number        1382\n",
       "Make                         63\n",
       "Model                        92\n",
       "Amateur.Built               102\n",
       "Number.of.Engines          6084\n",
       "Engine.Type                7096\n",
       "FAR.Description           56866\n",
       "Schedule                  76307\n",
       "Purpose.of.flight          6192\n",
       "Air.carrier               72241\n",
       "Total.Fatal.Injuries      11401\n",
       "Total.Serious.Injuries    12510\n",
       "Total.Minor.Injuries      11933\n",
       "Total.Uninjured            5912\n",
       "Weather.Condition          4492\n",
       "Broad.phase.of.flight     27165\n",
       "Report.Status              6384\n",
       "Publication.Date          13771\n",
       "dtype: int64"
      ]
     },
     "execution_count": 8,
     "metadata": {},
     "output_type": "execute_result"
    }
   ],
   "source": [
    "df.isnull().sum()"
   ]
  },
  {
   "cell_type": "code",
   "execution_count": 9,
   "id": "b6b5316e-3a0b-4936-a2d3-ee65f0ddfbf9",
   "metadata": {},
   "outputs": [
    {
     "data": {
      "image/png": "[encoded data removed]",
      "text/plain": [
       "<Figure size 640x480 with 1 Axes>"
      ]
     },
     "metadata": {},
     "output_type": "display_data"
    }
   ],
   "source": [
    "# boxplot for total Minor injuries\n",
    "y = df['Total.Minor.Injuries']\n",
    "sns.boxplot(y)\n",
    "plt.title('Total.Minor.Injuries')\n",
    "plt.show()"
   ]
  },
  {
   "cell_type": "markdown",
   "id": "7d3b4950-3368-45a4-95b3-4df7d26b95bc",
   "metadata": {},
   "source": [
    "# Dropping columns that are not needed"
   ]
  },
  {
   "cell_type": "code",
   "execution_count": 10,
   "id": "8e618f9e-43e5-48fc-ae4c-1e7ab9c7f83d",
   "metadata": {},
   "outputs": [],
   "source": [
    "\n",
    "drop_cols = ['Latitude', 'Registration.Number', 'Schedule']\n",
    "df.drop(columns=[col for col in drop_cols if col in df.columns], inplace=True)"
   ]
  },
  {
   "cell_type": "code",
   "execution_count": 11,
   "id": "6b431495-eede-4cc1-b383-35a858ecb6cb",
   "metadata": {},
   "outputs": [
    {
     "data": {
      "text/plain": [
       "Index(['Event.Id', 'Investigation.Type', 'Accident.Number', 'Event.Date',\n",
       "       'Location', 'Country', 'Longitude', 'Airport.Code', 'Airport.Name',\n",
       "       'Injury.Severity', 'Aircraft.damage', 'Aircraft.Category', 'Make',\n",
       "       'Model', 'Amateur.Built', 'Number.of.Engines', 'Engine.Type',\n",
       "       'FAR.Description', 'Purpose.of.flight', 'Air.carrier',\n",
       "       'Total.Fatal.Injuries', 'Total.Serious.Injuries',\n",
       "       'Total.Minor.Injuries', 'Total.Uninjured', 'Weather.Condition',\n",
       "       'Broad.phase.of.flight', 'Report.Status', 'Publication.Date'],\n",
       "      dtype='object')"
      ]
     },
     "execution_count": 11,
     "metadata": {},
     "output_type": "execute_result"
    }
   ],
   "source": [
    "# Confirming left columns\n",
    "df.columns"
   ]
  },
  {
   "cell_type": "code",
   "execution_count": 12,
   "id": "2253e377-305a-4812-84ae-0d4baacea956",
   "metadata": {},
   "outputs": [],
   "source": [
    "# Dropping missing fields\n",
    "df.dropna(subset = ['Event.Id', 'Make', 'Model', 'Aircraft.damage'], inplace = True)\n",
    "          "
   ]
  },
  {
   "cell_type": "code",
   "execution_count": 13,
   "id": "42eb22a6-c435-4f62-85dd-5d1d651df5a5",
   "metadata": {},
   "outputs": [],
   "source": [
    "# Standardize text columns \n",
    "df['Make'] = df['Make'].str.strip().str.upper()\n",
    "df['Model'] = df['Model'].str.strip().str.upper()\n"
   ]
  },
  {
   "cell_type": "code",
   "execution_count": 14,
   "id": "d57739e5-481d-457c-9fa9-2e10862bdb5e",
   "metadata": {},
   "outputs": [
    {
     "data": {
      "text/plain": [
       "Event.Id                   0.000000\n",
       "Investigation.Type         0.000000\n",
       "Accident.Number            0.000000\n",
       "Event.Date                 0.000000\n",
       "Location                   0.052567\n",
       "Country                    0.245313\n",
       "Longitude                 60.981251\n",
       "Airport.Code              42.758016\n",
       "Airport.Name              39.801413\n",
       "Injury.Severity            0.565388\n",
       "Aircraft.damage            0.000000\n",
       "Aircraft.Category         64.032475\n",
       "Make                       0.000000\n",
       "Model                      0.000000\n",
       "Amateur.Built              0.094621\n",
       "Number.of.Engines          5.691256\n",
       "Engine.Type                6.806845\n",
       "FAR.Description           64.352550\n",
       "Purpose.of.flight          5.296420\n",
       "Air.carrier               82.390047\n",
       "Total.Fatal.Injuries      12.730565\n",
       "Total.Serious.Injuries    14.214123\n",
       "Total.Minor.Injuries      13.385900\n",
       "Total.Uninjured            6.775305\n",
       "Weather.Condition          3.858419\n",
       "Broad.phase.of.flight     29.646633\n",
       "Report.Status              6.195900\n",
       "Publication.Date          15.433678\n",
       "dtype: float64"
      ]
     },
     "execution_count": 14,
     "metadata": {},
     "output_type": "execute_result"
    }
   ],
   "source": [
    "# Check the % of null values on each column\n",
    "df.isna().sum() * 100 / len(df)"
   ]
  },
  {
   "cell_type": "code",
   "execution_count": 15,
   "id": "05b61e6e-7990-448d-ae27-8ea3901af21e",
   "metadata": {},
   "outputs": [],
   "source": [
    "df.drop(columns=['Longitude', 'Airport.Code', 'Airport.Name', 'FAR.Description', 'Air.carrier'], inplace=True)\n"
   ]
  },
  {
   "cell_type": "code",
   "execution_count": 16,
   "id": "a8dc3617-f307-4981-a00e-c25613f79fa6",
   "metadata": {},
   "outputs": [
    {
     "data": {
      "text/plain": [
       "Index(['Event.Id', 'Investigation.Type', 'Accident.Number', 'Event.Date',\n",
       "       'Location', 'Country', 'Injury.Severity', 'Aircraft.damage',\n",
       "       'Aircraft.Category', 'Make', 'Model', 'Amateur.Built',\n",
       "       'Number.of.Engines', 'Engine.Type', 'Purpose.of.flight',\n",
       "       'Total.Fatal.Injuries', 'Total.Serious.Injuries',\n",
       "       'Total.Minor.Injuries', 'Total.Uninjured', 'Weather.Condition',\n",
       "       'Broad.phase.of.flight', 'Report.Status', 'Publication.Date'],\n",
       "      dtype='object')"
      ]
     },
     "execution_count": 16,
     "metadata": {},
     "output_type": "execute_result"
    }
   ],
   "source": [
    "df.columns"
   ]
  },
  {
   "cell_type": "code",
   "execution_count": 17,
   "id": "53ead0db-d722-49a6-9af5-d066b5eca5c5",
   "metadata": {},
   "outputs": [],
   "source": [
    "# Drop columns that are not needed\n",
    "dropped_columns = ['Accident.Number', 'Location', 'Amateur.Built', 'Report.Status', 'Publication.Date']\n",
    "df.drop(dropped_columns, axis=1, inplace=True)\n"
   ]
  },
  {
   "cell_type": "code",
   "execution_count": 18,
   "id": "ed0c30e8-b300-4f9a-a0d3-1ef66afc2555",
   "metadata": {},
   "outputs": [
    {
     "data": {
      "text/plain": [
       "Event.Id                      0\n",
       "Investigation.Type            0\n",
       "Event.Date                    0\n",
       "Country                     210\n",
       "Injury.Severity             484\n",
       "Aircraft.damage               0\n",
       "Aircraft.Category         54815\n",
       "Make                          0\n",
       "Model                         0\n",
       "Number.of.Engines          4872\n",
       "Engine.Type                5827\n",
       "Purpose.of.flight          4534\n",
       "Total.Fatal.Injuries      10898\n",
       "Total.Serious.Injuries    12168\n",
       "Total.Minor.Injuries      11459\n",
       "Total.Uninjured            5800\n",
       "Weather.Condition          3303\n",
       "Broad.phase.of.flight     25379\n",
       "dtype: int64"
      ]
     },
     "execution_count": 18,
     "metadata": {},
     "output_type": "execute_result"
    }
   ],
   "source": [
    "df.isna().sum()"
   ]
  },
  {
   "cell_type": "code",
   "execution_count": 19,
   "id": "ad0ddeff-56da-4b8e-bbf2-35d925761aa0",
   "metadata": {},
   "outputs": [],
   "source": [
    "# Dropping empty rows\n",
    "df.dropna(subset=['Total.Fatal.Injuries', 'Total.Serious.Injuries', 'Total.Minor.Injuries', 'Total.Uninjured'], inplace=True)"
   ]
  },
  {
   "cell_type": "code",
   "execution_count": 20,
   "id": "3ee25462-6ad0-449e-93c5-63a81bbf7ee9",
   "metadata": {},
   "outputs": [
    {
     "data": {
      "text/plain": [
       "Event.Id                      0\n",
       "Investigation.Type            0\n",
       "Event.Date                    0\n",
       "Country                     200\n",
       "Injury.Severity             484\n",
       "Aircraft.damage               0\n",
       "Aircraft.Category         44782\n",
       "Make                          0\n",
       "Model                         0\n",
       "Number.of.Engines          3713\n",
       "Engine.Type                4601\n",
       "Purpose.of.flight          3252\n",
       "Total.Fatal.Injuries          0\n",
       "Total.Serious.Injuries        0\n",
       "Total.Minor.Injuries          0\n",
       "Total.Uninjured               0\n",
       "Weather.Condition          2928\n",
       "Broad.phase.of.flight     24203\n",
       "dtype: int64"
      ]
     },
     "execution_count": 20,
     "metadata": {},
     "output_type": "execute_result"
    }
   ],
   "source": [
    "df.isna().sum()"
   ]
  },
  {
   "cell_type": "code",
   "execution_count": 21,
   "id": "5a76c6f8-d80c-4504-b95c-9a7c49c3d5f1",
   "metadata": {},
   "outputs": [
    {
     "data": {
      "text/plain": [
       "array([nan, 'Airplane', 'Helicopter', 'Glider', 'Balloon', 'Gyrocraft',\n",
       "       'Ultralight', 'Unknown', 'Weight-Shift', 'Powered Parachute',\n",
       "       'Rocket', 'Powered-Lift', 'Blimp', 'WSFT', 'UNK', 'ULTR'],\n",
       "      dtype=object)"
      ]
     },
     "execution_count": 21,
     "metadata": {},
     "output_type": "execute_result"
    }
   ],
   "source": [
    "df['Aircraft.Category'].unique()"
   ]
  },
  {
   "cell_type": "code",
   "execution_count": 22,
   "id": "e3414223-4770-43be-bb96-19707907dbc7",
   "metadata": {},
   "outputs": [],
   "source": [
    "# filling the null values in column with an already existing category\n",
    "df['Aircraft.Category'].fillna('Unknown', inplace=True)"
   ]
  },
  {
   "cell_type": "code",
   "execution_count": 23,
   "id": "5b5334d9-2c52-4970-8f43-d26e5c45922e",
   "metadata": {},
   "outputs": [
    {
     "data": {
      "text/plain": [
       "Event.Id                      0\n",
       "Investigation.Type            0\n",
       "Event.Date                    0\n",
       "Country                     200\n",
       "Injury.Severity             484\n",
       "Aircraft.damage               0\n",
       "Aircraft.Category             0\n",
       "Make                          0\n",
       "Model                         0\n",
       "Number.of.Engines          3713\n",
       "Engine.Type                4601\n",
       "Purpose.of.flight          3252\n",
       "Total.Fatal.Injuries          0\n",
       "Total.Serious.Injuries        0\n",
       "Total.Minor.Injuries          0\n",
       "Total.Uninjured               0\n",
       "Weather.Condition          2928\n",
       "Broad.phase.of.flight     24203\n",
       "dtype: int64"
      ]
     },
     "execution_count": 23,
     "metadata": {},
     "output_type": "execute_result"
    }
   ],
   "source": [
    "df.isna().sum()"
   ]
  },
  {
   "cell_type": "code",
   "execution_count": 24,
   "id": "d7c90e23-748e-4f49-a360-0a881f957272",
   "metadata": {},
   "outputs": [
    {
     "data": {
      "text/plain": [
       "array(['United States', nan, 'GULF OF MEXICO', 'Puerto Rico',\n",
       "       'ATLANTIC OCEAN', 'HIGH ISLAND', 'Bahamas', 'MISSING', 'Pakistan',\n",
       "       'Angola', 'Germany', 'Korea, Republic Of', 'Martinique',\n",
       "       'American Samoa', 'PACIFIC OCEAN', 'Canada', 'Bolivia', 'Mexico',\n",
       "       'Dominica', 'Netherlands Antilles', 'Iceland', 'Greece', 'Guam',\n",
       "       'Australia', 'CARIBBEAN SEA', 'West Indies', 'Japan',\n",
       "       'Philippines', 'Venezuela', 'Bermuda', 'San Juan Islands',\n",
       "       'El Salvador', 'Colombia', 'British Virgin Islands', 'Mozambique',\n",
       "       'Panama', 'Costa Rica', 'Hong Kong', 'United Kingdom', 'Portugal',\n",
       "       'Malaysia', 'Turks And Caicos Islands', 'Northern Mariana Islands',\n",
       "       'Suriname', 'Honduras', 'Congo', 'Belize', 'Guatemala', 'Anguilla',\n",
       "       'St Vincent And The Grenadines', 'Dominican Republic', 'Haiti',\n",
       "       'Jamaica', 'Montserrat', 'Papua New Guinea', 'Taiwan', 'France',\n",
       "       'Barbados', 'BLOCK 651A', 'Brazil', 'Mauritius', 'Argentina',\n",
       "       'Ecuador', 'Guyana', 'Aruba', 'Saudi Arabia', 'Cuba',\n",
       "       'French Guiana', 'Sudan', 'Spain',\n",
       "       'Federated States Of Micronesia', 'St Lucia', 'Switzerland',\n",
       "       'Central African Republic', 'Algeria', 'Nicaragua',\n",
       "       'Marshall Islands', 'Trinidad And Tobago', 'Austria', 'Cameroon',\n",
       "       'Netherlands', 'Zambia', 'Peru', 'Croatia', 'Cayman Islands',\n",
       "       'Italy', 'Fiji', 'South Africa', 'Kenya', 'Ethiopia', 'Ireland',\n",
       "       'Chile', 'Antigua And Barbuda', 'Sweden', 'Uganda', 'Belgium',\n",
       "       'Uruguay', 'Mali', 'India', 'Indonesia', 'Bahrain', 'Russia',\n",
       "       'Cyprus', \"Cote D'ivoire\", 'Greenland', 'China', 'New Zealand',\n",
       "       'Tanzania', 'Norway', 'Singapore', 'Thailand', 'Gabon', 'Nepal',\n",
       "       'Turkey', 'Finland', 'Liberia', 'Romania', 'Maldives',\n",
       "       'Antarctica', 'Botswana', 'Isle of Man', 'Latvia', 'Denmark',\n",
       "       'Tunisia', 'Estonia', 'Namibia', 'Egypt', 'Bangladesh',\n",
       "       'Central Africa', 'Senegal', 'South Sudan', 'Saint Barthelemy',\n",
       "       'Micronesia', 'Nigeria', 'South Korea', 'Hungary', 'Kyrgyzstan',\n",
       "       'Turks And Caicos', 'Eswatini', 'Tokelau', 'Solomon Islands',\n",
       "       'Vietnam', 'Sint Maarten', 'Macao', 'Iraq', 'Rwanda', 'Israel',\n",
       "       'Palau', 'Luxembourg', 'Lebanon', 'Bosnia and Herzegovina',\n",
       "       'Libya', 'Afghanistan', 'Poland',\n",
       "       'Saint Vincent and the Grenadines', 'Guadeloupe', 'UN', 'Iran',\n",
       "       'Malampa', 'AY', 'Ghana', 'Kazakhstan', 'Chad', 'Unknown',\n",
       "       'Cayenne', 'Qatar', 'Ukraine', 'Czech Republic', 'New Caledonia',\n",
       "       'Yemen', 'Slovenia', 'Reunion', 'Niue', 'Lithuania', 'Morocco',\n",
       "       'Republic of North Macedonia', 'Virgin Islands', 'Jordan',\n",
       "       'Slovakia', 'Somalia', 'Antigua and Barbuda', 'Bulgaria', 'Guinea',\n",
       "       'Pacific Ocean', 'Obyan', 'Mauritania', 'Zimbabwe', 'Wolseley',\n",
       "       'Malta', 'Saint Pierre and Miquelon', 'Georgia', \"Côte d'Ivoire\",\n",
       "       'South Korean', 'French Polynesia', 'Serbia', 'Great Britain'],\n",
       "      dtype=object)"
      ]
     },
     "execution_count": 24,
     "metadata": {},
     "output_type": "execute_result"
    }
   ],
   "source": [
    "df['Country'].unique()"
   ]
  },
  {
   "cell_type": "code",
   "execution_count": 25,
   "id": "ad7969d7-dd79-4dbe-afbc-c5e7672ad234",
   "metadata": {},
   "outputs": [],
   "source": [
    "# filling the null values in column with an already existing category\n",
    "df['Country'].fillna('MISSING', inplace=True)"
   ]
  },
  {
   "cell_type": "code",
   "execution_count": 26,
   "id": "8962c084-a2b5-4b5d-be16-04bbce32e16b",
   "metadata": {},
   "outputs": [
    {
     "data": {
      "text/plain": [
       "Event.Id                      0\n",
       "Investigation.Type            0\n",
       "Event.Date                    0\n",
       "Country                       0\n",
       "Injury.Severity             484\n",
       "Aircraft.damage               0\n",
       "Aircraft.Category             0\n",
       "Make                          0\n",
       "Model                         0\n",
       "Number.of.Engines          3713\n",
       "Engine.Type                4601\n",
       "Purpose.of.flight          3252\n",
       "Total.Fatal.Injuries          0\n",
       "Total.Serious.Injuries        0\n",
       "Total.Minor.Injuries          0\n",
       "Total.Uninjured               0\n",
       "Weather.Condition          2928\n",
       "Broad.phase.of.flight     24203\n",
       "dtype: int64"
      ]
     },
     "execution_count": 26,
     "metadata": {},
     "output_type": "execute_result"
    }
   ],
   "source": [
    "df.isna().sum()"
   ]
  },
  {
   "cell_type": "code",
   "execution_count": 27,
   "id": "6d5931db-479f-4a4a-9770-3abc0ff891e0",
   "metadata": {},
   "outputs": [
    {
     "data": {
      "text/plain": [
       "array(['Fatal(2)', 'Fatal(4)', 'Non-Fatal', 'Fatal(1)', 'Fatal(3)',\n",
       "       'Incident', 'Fatal(8)', 'Fatal(78)', 'Fatal(7)', 'Fatal(6)',\n",
       "       'Fatal(5)', 'Fatal(153)', 'Fatal(12)', 'Fatal(23)', 'Fatal(10)',\n",
       "       'Fatal(9)', 'Fatal(17)', 'Fatal(13)', 'Fatal(29)', 'Fatal(70)',\n",
       "       'Unavailable', 'Fatal(135)', 'Fatal(31)', 'Fatal(14)',\n",
       "       'Fatal(256)', 'Fatal(25)', 'Fatal(82)', 'Fatal(156)', 'Fatal(28)',\n",
       "       'Fatal(18)', 'Fatal(43)', 'Fatal(15)', 'Fatal(270)', 'Fatal(144)',\n",
       "       'Fatal(174)', 'Fatal(11)', 'Fatal(111)', 'Fatal(131)', 'Fatal(20)',\n",
       "       'Fatal(73)', 'Fatal(27)', 'Fatal(34)', 'Fatal(87)', 'Fatal(47)',\n",
       "       'Fatal(56)', 'Fatal(37)', 'Fatal(132)', 'Fatal(68)', 'Fatal(52)',\n",
       "       'Fatal(65)', 'Fatal(72)', 'Fatal(189)', 'Fatal(123)', 'Fatal(33)',\n",
       "       'Fatal(110)', 'Fatal(230)', 'Fatal(125)', 'Fatal(75)', 'Fatal(97)',\n",
       "       'Fatal(104)', 'Fatal(16)', 'Fatal(80)', 'Fatal(88)', 'Fatal(19)',\n",
       "       'Fatal(113)', 'Fatal(143)', 'Fatal(83)', nan, 'Fatal', 'Minor',\n",
       "       'Serious'], dtype=object)"
      ]
     },
     "execution_count": 27,
     "metadata": {},
     "output_type": "execute_result"
    }
   ],
   "source": [
    "df['Injury.Severity'].unique()"
   ]
  },
  {
   "cell_type": "code",
   "execution_count": 28,
   "id": "1140211f-8998-467d-ac7a-3e6152bcb4b3",
   "metadata": {},
   "outputs": [],
   "source": [
    "# filling the null values in column with an already existing category\n",
    "df['Injury.Severity'].fillna('Unavailable', inplace=True)"
   ]
  },
  {
   "cell_type": "code",
   "execution_count": 29,
   "id": "f4530736-48be-4ffe-a3dc-849b45c0b0c0",
   "metadata": {},
   "outputs": [
    {
     "data": {
      "text/plain": [
       "Event.Id                      0\n",
       "Investigation.Type            0\n",
       "Event.Date                    0\n",
       "Country                       0\n",
       "Injury.Severity               0\n",
       "Aircraft.damage               0\n",
       "Aircraft.Category             0\n",
       "Make                          0\n",
       "Model                         0\n",
       "Number.of.Engines          3713\n",
       "Engine.Type                4601\n",
       "Purpose.of.flight          3252\n",
       "Total.Fatal.Injuries          0\n",
       "Total.Serious.Injuries        0\n",
       "Total.Minor.Injuries          0\n",
       "Total.Uninjured               0\n",
       "Weather.Condition          2928\n",
       "Broad.phase.of.flight     24203\n",
       "dtype: int64"
      ]
     },
     "execution_count": 29,
     "metadata": {},
     "output_type": "execute_result"
    }
   ],
   "source": [
    "df.isna().sum()"
   ]
  },
  {
   "cell_type": "code",
   "execution_count": 30,
   "id": "9199ca52-0d28-48b2-b5b7-7483591cf142",
   "metadata": {},
   "outputs": [
    {
     "data": {
      "text/plain": [
       "array([ 1.,  2.,  0.,  4.,  3., nan,  8.,  6.])"
      ]
     },
     "execution_count": 30,
     "metadata": {},
     "output_type": "execute_result"
    }
   ],
   "source": [
    "df['Number.of.Engines'].unique()"
   ]
  },
  {
   "cell_type": "code",
   "execution_count": 31,
   "id": "02a550f5-db47-4677-aa20-6f8fed12f3b2",
   "metadata": {},
   "outputs": [
    {
     "data": {
      "text/plain": [
       "0    1.0\n",
       "Name: Number.of.Engines, dtype: float64"
      ]
     },
     "execution_count": 31,
     "metadata": {},
     "output_type": "execute_result"
    }
   ],
   "source": [
    "# filling null values with the mode in column\n",
    "df['Number.of.Engines'].mode()"
   ]
  },
  {
   "cell_type": "code",
   "execution_count": 32,
   "id": "860d7e49-63c3-4450-bf15-8c53c3b0ce76",
   "metadata": {},
   "outputs": [],
   "source": [
    "# filling the null values in column with an already existing category\n",
    "df['Number.of.Engines'].fillna(df['Number.of.Engines'].mode()[0], inplace=True)"
   ]
  },
  {
   "cell_type": "code",
   "execution_count": 33,
   "id": "53aa0cb2-49e0-4dc4-9ec5-515fadc31334",
   "metadata": {},
   "outputs": [
    {
     "data": {
      "text/plain": [
       "Event.Id                      0\n",
       "Investigation.Type            0\n",
       "Event.Date                    0\n",
       "Country                       0\n",
       "Injury.Severity               0\n",
       "Aircraft.damage               0\n",
       "Aircraft.Category             0\n",
       "Make                          0\n",
       "Model                         0\n",
       "Number.of.Engines             0\n",
       "Engine.Type                4601\n",
       "Purpose.of.flight          3252\n",
       "Total.Fatal.Injuries          0\n",
       "Total.Serious.Injuries        0\n",
       "Total.Minor.Injuries          0\n",
       "Total.Uninjured               0\n",
       "Weather.Condition          2928\n",
       "Broad.phase.of.flight     24203\n",
       "dtype: int64"
      ]
     },
     "execution_count": 33,
     "metadata": {},
     "output_type": "execute_result"
    }
   ],
   "source": [
    "df.isna().sum()"
   ]
  },
  {
   "cell_type": "code",
   "execution_count": 34,
   "id": "60228675-e635-447c-bbb7-06ce9b213e22",
   "metadata": {},
   "outputs": [
    {
     "data": {
      "text/plain": [
       "array(['Reciprocating', 'Turbo Shaft', 'Unknown', 'Turbo Prop',\n",
       "       'Turbo Fan', 'Turbo Jet', nan, 'Electric', 'Hybrid Rocket',\n",
       "       'Geared Turbofan', 'LR', 'NONE', 'UNK'], dtype=object)"
      ]
     },
     "execution_count": 34,
     "metadata": {},
     "output_type": "execute_result"
    }
   ],
   "source": [
    "df['Engine.Type'].unique()"
   ]
  },
  {
   "cell_type": "code",
   "execution_count": 35,
   "id": "0fa77e82-5c22-4c0a-ae9d-8b312b04634a",
   "metadata": {},
   "outputs": [],
   "source": [
    "# filling the null values in column with an already existing category\n",
    "df['Engine.Type'].fillna('Unknown', inplace=True)"
   ]
  },
  {
   "cell_type": "code",
   "execution_count": 36,
   "id": "835895f0-d0f2-4763-a95f-20a7cbb3a419",
   "metadata": {},
   "outputs": [
    {
     "data": {
      "text/plain": [
       "Event.Id                      0\n",
       "Investigation.Type            0\n",
       "Event.Date                    0\n",
       "Country                       0\n",
       "Injury.Severity               0\n",
       "Aircraft.damage               0\n",
       "Aircraft.Category             0\n",
       "Make                          0\n",
       "Model                         0\n",
       "Number.of.Engines             0\n",
       "Engine.Type                   0\n",
       "Purpose.of.flight          3252\n",
       "Total.Fatal.Injuries          0\n",
       "Total.Serious.Injuries        0\n",
       "Total.Minor.Injuries          0\n",
       "Total.Uninjured               0\n",
       "Weather.Condition          2928\n",
       "Broad.phase.of.flight     24203\n",
       "dtype: int64"
      ]
     },
     "execution_count": 36,
     "metadata": {},
     "output_type": "execute_result"
    }
   ],
   "source": [
    "df.isna().sum()"
   ]
  },
  {
   "cell_type": "code",
   "execution_count": 37,
   "id": "b8924397-a5f9-4a5d-a0a8-f3b92b4b8916",
   "metadata": {},
   "outputs": [
    {
     "data": {
      "text/plain": [
       "array(['Personal', 'Business', 'Instructional', 'Unknown', 'Ferry',\n",
       "       'Executive/corporate', 'Aerial Observation', 'Aerial Application',\n",
       "       'Public Aircraft', nan, 'Other Work Use', 'Positioning',\n",
       "       'Flight Test', 'Skydiving', 'Public Aircraft - Local',\n",
       "       'Public Aircraft - Federal', 'Glider Tow', 'External Load',\n",
       "       'Banner Tow', 'Air Race show', 'Public Aircraft - State',\n",
       "       'Firefighting', 'Air Drop', 'PUBS', 'ASHO', 'PUBL'], dtype=object)"
      ]
     },
     "execution_count": 37,
     "metadata": {},
     "output_type": "execute_result"
    }
   ],
   "source": [
    "df['Purpose.of.flight'].unique()"
   ]
  },
  {
   "cell_type": "code",
   "execution_count": 38,
   "id": "ac97d4e0-acae-4694-ab96-ed9468a0bea7",
   "metadata": {},
   "outputs": [],
   "source": [
    "# filling the null values in column with an already existing category\n",
    "df['Purpose.of.flight'].fillna('Unknown', inplace=True)"
   ]
  },
  {
   "cell_type": "code",
   "execution_count": 39,
   "id": "1516704c-9192-4233-8f8e-d07adf1e1be3",
   "metadata": {},
   "outputs": [
    {
     "data": {
      "text/plain": [
       "Event.Id                      0\n",
       "Investigation.Type            0\n",
       "Event.Date                    0\n",
       "Country                       0\n",
       "Injury.Severity               0\n",
       "Aircraft.damage               0\n",
       "Aircraft.Category             0\n",
       "Make                          0\n",
       "Model                         0\n",
       "Number.of.Engines             0\n",
       "Engine.Type                   0\n",
       "Purpose.of.flight             0\n",
       "Total.Fatal.Injuries          0\n",
       "Total.Serious.Injuries        0\n",
       "Total.Minor.Injuries          0\n",
       "Total.Uninjured               0\n",
       "Weather.Condition          2928\n",
       "Broad.phase.of.flight     24203\n",
       "dtype: int64"
      ]
     },
     "execution_count": 39,
     "metadata": {},
     "output_type": "execute_result"
    }
   ],
   "source": [
    "df.isna().sum()"
   ]
  },
  {
   "cell_type": "code",
   "execution_count": 40,
   "id": "37b3f28d-5e8c-49f3-bb61-0a8a3b05d98c",
   "metadata": {},
   "outputs": [
    {
     "data": {
      "text/plain": [
       "array(['UNK', 'IMC', 'VMC', nan, 'Unk'], dtype=object)"
      ]
     },
     "execution_count": 40,
     "metadata": {},
     "output_type": "execute_result"
    }
   ],
   "source": [
    "df['Weather.Condition'].unique()"
   ]
  },
  {
   "cell_type": "code",
   "execution_count": 41,
   "id": "c9a9e1f4-754e-4f88-b03d-ded0721d3bf9",
   "metadata": {},
   "outputs": [],
   "source": [
    "df['Weather.Condition'] = df['Weather.Condition'].str.upper()"
   ]
  },
  {
   "cell_type": "code",
   "execution_count": 42,
   "id": "40336090-5579-42e9-82d2-1e4666b2a8f8",
   "metadata": {},
   "outputs": [],
   "source": [
    "# filling the null values in column with an already existing category\n",
    "df['Weather.Condition'].fillna('UNK', inplace=True)"
   ]
  },
  {
   "cell_type": "code",
   "execution_count": 43,
   "id": "6c2cba12-3fee-4d67-bf8b-5a2dfe0310c1",
   "metadata": {},
   "outputs": [
    {
     "data": {
      "text/plain": [
       "Event.Id                      0\n",
       "Investigation.Type            0\n",
       "Event.Date                    0\n",
       "Country                       0\n",
       "Injury.Severity               0\n",
       "Aircraft.damage               0\n",
       "Aircraft.Category             0\n",
       "Make                          0\n",
       "Model                         0\n",
       "Number.of.Engines             0\n",
       "Engine.Type                   0\n",
       "Purpose.of.flight             0\n",
       "Total.Fatal.Injuries          0\n",
       "Total.Serious.Injuries        0\n",
       "Total.Minor.Injuries          0\n",
       "Total.Uninjured               0\n",
       "Weather.Condition             0\n",
       "Broad.phase.of.flight     24203\n",
       "dtype: int64"
      ]
     },
     "execution_count": 43,
     "metadata": {},
     "output_type": "execute_result"
    }
   ],
   "source": [
    "df.isna().sum()"
   ]
  },
  {
   "cell_type": "code",
   "execution_count": 44,
   "id": "0b2049ae-8daf-4d7b-8b63-8cbd449447ef",
   "metadata": {},
   "outputs": [
    {
     "data": {
      "text/plain": [
       "array(['Cruise', 'Unknown', 'Takeoff', 'Landing', 'Approach', 'Taxi',\n",
       "       'Descent', 'Maneuvering', 'Climb', 'Standing', 'Go-around',\n",
       "       'Other', nan], dtype=object)"
      ]
     },
     "execution_count": 44,
     "metadata": {},
     "output_type": "execute_result"
    }
   ],
   "source": [
    "df['Broad.phase.of.flight'].unique()"
   ]
  },
  {
   "cell_type": "code",
   "execution_count": 45,
   "id": "06ebfca4-f6c1-446f-a3aa-d50c0f5f35b5",
   "metadata": {},
   "outputs": [],
   "source": [
    "# filling the null values in column with an already existing category\n",
    "df['Broad.phase.of.flight'].fillna('Unknown', inplace=True)"
   ]
  },
  {
   "cell_type": "code",
   "execution_count": 46,
   "id": "d6e65250-2e05-48e7-9962-85e7d816cc8b",
   "metadata": {},
   "outputs": [
    {
     "data": {
      "text/plain": [
       "Event.Id                  0\n",
       "Investigation.Type        0\n",
       "Event.Date                0\n",
       "Country                   0\n",
       "Injury.Severity           0\n",
       "Aircraft.damage           0\n",
       "Aircraft.Category         0\n",
       "Make                      0\n",
       "Model                     0\n",
       "Number.of.Engines         0\n",
       "Engine.Type               0\n",
       "Purpose.of.flight         0\n",
       "Total.Fatal.Injuries      0\n",
       "Total.Serious.Injuries    0\n",
       "Total.Minor.Injuries      0\n",
       "Total.Uninjured           0\n",
       "Weather.Condition         0\n",
       "Broad.phase.of.flight     0\n",
       "dtype: int64"
      ]
     },
     "execution_count": 46,
     "metadata": {},
     "output_type": "execute_result"
    }
   ],
   "source": [
    "df.isna().sum()"
   ]
  },
  {
   "cell_type": "markdown",
   "id": "7a35dcd8-05bb-4412-94ee-6e077db814d4",
   "metadata": {},
   "source": [
    "# DATA ANALYSIS"
   ]
  },
  {
   "cell_type": "code",
   "execution_count": 47,
   "id": "83e39e99-1b17-4893-a595-8c51e1965a7f",
   "metadata": {},
   "outputs": [
    {
     "data": {
      "text/plain": [
       "(71621, 18)"
      ]
     },
     "execution_count": 47,
     "metadata": {},
     "output_type": "execute_result"
    }
   ],
   "source": [
    "# Identifying the shape of our data\n",
    "df.shape"
   ]
  },
  {
   "cell_type": "code",
   "execution_count": 48,
   "id": "f9970010-bdd3-4185-ac30-c807495ddc83",
   "metadata": {},
   "outputs": [
    {
     "data": {
      "text/html": [
       "<div>\n",
       "<style scoped>\n",
       "    .dataframe tbody tr th:only-of-type {\n",
       "        vertical-align: middle;\n",
       "    }\n",
       "\n",
       "    .dataframe tbody tr th {\n",
       "        vertical-align: top;\n",
       "    }\n",
       "\n",
       "    .dataframe thead th {\n",
       "        text-align: right;\n",
       "    }\n",
       "</style>\n",
       "<table border=\"1\" class=\"dataframe\">\n",
       "  <thead>\n",
       "    <tr style=\"text-align: right;\">\n",
       "      <th></th>\n",
       "      <th>Event.Id</th>\n",
       "      <th>Investigation.Type</th>\n",
       "      <th>Event.Date</th>\n",
       "      <th>Country</th>\n",
       "      <th>Injury.Severity</th>\n",
       "      <th>Aircraft.damage</th>\n",
       "      <th>Aircraft.Category</th>\n",
       "      <th>Make</th>\n",
       "      <th>Model</th>\n",
       "      <th>Number.of.Engines</th>\n",
       "      <th>Engine.Type</th>\n",
       "      <th>Purpose.of.flight</th>\n",
       "      <th>Total.Fatal.Injuries</th>\n",
       "      <th>Total.Serious.Injuries</th>\n",
       "      <th>Total.Minor.Injuries</th>\n",
       "      <th>Total.Uninjured</th>\n",
       "      <th>Weather.Condition</th>\n",
       "      <th>Broad.phase.of.flight</th>\n",
       "    </tr>\n",
       "  </thead>\n",
       "  <tbody>\n",
       "    <tr>\n",
       "      <th>0</th>\n",
       "      <td>20001218X45444</td>\n",
       "      <td>Accident</td>\n",
       "      <td>1948-10-24</td>\n",
       "      <td>United States</td>\n",
       "      <td>Fatal(2)</td>\n",
       "      <td>Destroyed</td>\n",
       "      <td>Unknown</td>\n",
       "      <td>STINSON</td>\n",
       "      <td>108-3</td>\n",
       "      <td>1.0</td>\n",
       "      <td>Reciprocating</td>\n",
       "      <td>Personal</td>\n",
       "      <td>2.0</td>\n",
       "      <td>0.0</td>\n",
       "      <td>0.0</td>\n",
       "      <td>0.0</td>\n",
       "      <td>UNK</td>\n",
       "      <td>Cruise</td>\n",
       "    </tr>\n",
       "    <tr>\n",
       "      <th>1</th>\n",
       "      <td>20001218X45447</td>\n",
       "      <td>Accident</td>\n",
       "      <td>1962-07-19</td>\n",
       "      <td>United States</td>\n",
       "      <td>Fatal(4)</td>\n",
       "      <td>Destroyed</td>\n",
       "      <td>Unknown</td>\n",
       "      <td>PIPER</td>\n",
       "      <td>PA24-180</td>\n",
       "      <td>1.0</td>\n",
       "      <td>Reciprocating</td>\n",
       "      <td>Personal</td>\n",
       "      <td>4.0</td>\n",
       "      <td>0.0</td>\n",
       "      <td>0.0</td>\n",
       "      <td>0.0</td>\n",
       "      <td>UNK</td>\n",
       "      <td>Unknown</td>\n",
       "    </tr>\n",
       "    <tr>\n",
       "      <th>3</th>\n",
       "      <td>20001218X45448</td>\n",
       "      <td>Accident</td>\n",
       "      <td>1977-06-19</td>\n",
       "      <td>United States</td>\n",
       "      <td>Fatal(2)</td>\n",
       "      <td>Destroyed</td>\n",
       "      <td>Unknown</td>\n",
       "      <td>ROCKWELL</td>\n",
       "      <td>112</td>\n",
       "      <td>1.0</td>\n",
       "      <td>Reciprocating</td>\n",
       "      <td>Personal</td>\n",
       "      <td>2.0</td>\n",
       "      <td>0.0</td>\n",
       "      <td>0.0</td>\n",
       "      <td>0.0</td>\n",
       "      <td>IMC</td>\n",
       "      <td>Cruise</td>\n",
       "    </tr>\n",
       "    <tr>\n",
       "      <th>6</th>\n",
       "      <td>20001218X45446</td>\n",
       "      <td>Accident</td>\n",
       "      <td>1981-08-01</td>\n",
       "      <td>United States</td>\n",
       "      <td>Fatal(4)</td>\n",
       "      <td>Destroyed</td>\n",
       "      <td>Unknown</td>\n",
       "      <td>CESSNA</td>\n",
       "      <td>180</td>\n",
       "      <td>1.0</td>\n",
       "      <td>Reciprocating</td>\n",
       "      <td>Personal</td>\n",
       "      <td>4.0</td>\n",
       "      <td>0.0</td>\n",
       "      <td>0.0</td>\n",
       "      <td>0.0</td>\n",
       "      <td>IMC</td>\n",
       "      <td>Unknown</td>\n",
       "    </tr>\n",
       "    <tr>\n",
       "      <th>7</th>\n",
       "      <td>20020909X01562</td>\n",
       "      <td>Accident</td>\n",
       "      <td>1982-01-01</td>\n",
       "      <td>United States</td>\n",
       "      <td>Non-Fatal</td>\n",
       "      <td>Substantial</td>\n",
       "      <td>Airplane</td>\n",
       "      <td>CESSNA</td>\n",
       "      <td>140</td>\n",
       "      <td>1.0</td>\n",
       "      <td>Reciprocating</td>\n",
       "      <td>Personal</td>\n",
       "      <td>0.0</td>\n",
       "      <td>0.0</td>\n",
       "      <td>0.0</td>\n",
       "      <td>2.0</td>\n",
       "      <td>VMC</td>\n",
       "      <td>Takeoff</td>\n",
       "    </tr>\n",
       "  </tbody>\n",
       "</table>\n",
       "</div>"
      ],
      "text/plain": [
       "         Event.Id Investigation.Type  Event.Date        Country  \\\n",
       "0  20001218X45444           Accident  1948-10-24  United States   \n",
       "1  20001218X45447           Accident  1962-07-19  United States   \n",
       "3  20001218X45448           Accident  1977-06-19  United States   \n",
       "6  20001218X45446           Accident  1981-08-01  United States   \n",
       "7  20020909X01562           Accident  1982-01-01  United States   \n",
       "\n",
       "  Injury.Severity Aircraft.damage Aircraft.Category      Make     Model  \\\n",
       "0        Fatal(2)       Destroyed           Unknown   STINSON     108-3   \n",
       "1        Fatal(4)       Destroyed           Unknown     PIPER  PA24-180   \n",
       "3        Fatal(2)       Destroyed           Unknown  ROCKWELL       112   \n",
       "6        Fatal(4)       Destroyed           Unknown    CESSNA       180   \n",
       "7       Non-Fatal     Substantial          Airplane    CESSNA       140   \n",
       "\n",
       "   Number.of.Engines    Engine.Type Purpose.of.flight  Total.Fatal.Injuries  \\\n",
       "0                1.0  Reciprocating          Personal                   2.0   \n",
       "1                1.0  Reciprocating          Personal                   4.0   \n",
       "3                1.0  Reciprocating          Personal                   2.0   \n",
       "6                1.0  Reciprocating          Personal                   4.0   \n",
       "7                1.0  Reciprocating          Personal                   0.0   \n",
       "\n",
       "   Total.Serious.Injuries  Total.Minor.Injuries  Total.Uninjured  \\\n",
       "0                     0.0                   0.0              0.0   \n",
       "1                     0.0                   0.0              0.0   \n",
       "3                     0.0                   0.0              0.0   \n",
       "6                     0.0                   0.0              0.0   \n",
       "7                     0.0                   0.0              2.0   \n",
       "\n",
       "  Weather.Condition Broad.phase.of.flight  \n",
       "0               UNK                Cruise  \n",
       "1               UNK               Unknown  \n",
       "3               IMC                Cruise  \n",
       "6               IMC               Unknown  \n",
       "7               VMC               Takeoff  "
      ]
     },
     "execution_count": 48,
     "metadata": {},
     "output_type": "execute_result"
    }
   ],
   "source": [
    "df.head()"
   ]
  },
  {
   "cell_type": "markdown",
   "id": "f94e6ec9-20e3-44bc-8db1-53474b188db5",
   "metadata": {},
   "source": [
    "# Trends of Accidents over time"
   ]
  },
  {
   "cell_type": "code",
   "execution_count": 49,
   "id": "cfaa9ce7-9f88-4092-ae17-b6413b28109f",
   "metadata": {},
   "outputs": [],
   "source": [
    "# Converting event time to a timeframe\n",
    "df['Event.Date'] = pd.to_datetime(df['Event.Date'])"
   ]
  },
  {
   "cell_type": "code",
   "execution_count": 50,
   "id": "581f36a2-7a25-4b0a-9b40-37466b8fffd0",
   "metadata": {},
   "outputs": [
    {
     "data": {
      "image/png": "[encoded data removed]",
      "text/plain": [
       "<Figure size 640x480 with 1 Axes>"
      ]
     },
     "metadata": {},
     "output_type": "display_data"
    }
   ],
   "source": [
    "# Visual representation of the data\n",
    "events_yearly = df.groupby(df['Event.Date'].dt.year // 10 * 10).size()\n",
    "events_yearly.plot(kind='bar')\n",
    "plt.xlabel('Date (By decade)')\n",
    "plt.ylabel('Number of Events')\n",
    "plt.title('Events Over Time')\n",
    "plt.show()"
   ]
  },
  {
   "cell_type": "markdown",
   "id": "120ee1fb-deec-439c-bd37-b1ee8b01ffe8",
   "metadata": {},
   "source": [
    "# The above plot visualizes the occurances of accidents over the years grouped by decade.\n",
    "## The first three decades had no accidents since air transport was not that common\n",
    "## From thr fourth decade the number of accidents increase due to the introduction of air transport shows that there were fewer accidents,while since 1990-2000 the number of accidents reduced dince air trasnsport was common and more advanced arircrafts.  \n"
   ]
  },
  {
   "cell_type": "markdown",
   "id": "2e9ea615-1365-436b-a893-37d35884e1d3",
   "metadata": {},
   "source": [
    "# Purpose of flight\n"
   ]
  },
  {
   "cell_type": "code",
   "execution_count": 51,
   "id": "e0da27a8-f28a-40c4-99ee-1ffe5d9f59ce",
   "metadata": {},
   "outputs": [
    {
     "data": {
      "text/plain": [
       "Purpose.of.flight\n",
       "PUBL                             1\n",
       "PUBS                             4\n",
       "ASHO                             6\n",
       "Air Drop                         7\n",
       "Firefighting                    31\n",
       "Glider Tow                      43\n",
       "Public Aircraft - State         47\n",
       "Public Aircraft - Local         61\n",
       "Banner Tow                      76\n",
       "Public Aircraft - Federal       78\n",
       "Air Race show                   90\n",
       "External Load                   98\n",
       "Skydiving                      109\n",
       "Flight Test                    254\n",
       "Executive/corporate            447\n",
       "Public Aircraft                523\n",
       "Aerial Observation             660\n",
       "Ferry                          724\n",
       "Other Work Use                 935\n",
       "Positioning                   1204\n",
       "Business                      3456\n",
       "Aerial Application            4104\n",
       "Instructional                 8717\n",
       "Unknown                       8848\n",
       "Personal                     41098\n",
       "Name: count, dtype: int64"
      ]
     },
     "execution_count": 51,
     "metadata": {},
     "output_type": "execute_result"
    }
   ],
   "source": [
    "Numbers = df['Purpose.of.flight'].value_counts(ascending=True)\n",
    "Numbers"
   ]
  },
  {
   "cell_type": "code",
   "execution_count": 52,
   "id": "3a1b1799-48e3-46f6-aefe-8b089422a9dc",
   "metadata": {},
   "outputs": [
    {
     "name": "stdout",
     "output_type": "stream",
     "text": [
      "Purpose.of.flight\n",
      "PUBL                          0.001396\n",
      "PUBS                          0.005585\n",
      "ASHO                          0.008377\n",
      "Air Drop                      0.009774\n",
      "Firefighting                  0.043283\n",
      "Glider Tow                    0.060038\n",
      "Public Aircraft - State       0.065623\n",
      "Public Aircraft - Local       0.085171\n",
      "Banner Tow                    0.106114\n",
      "Public Aircraft - Federal     0.108907\n",
      "Air Race show                 0.125661\n",
      "External Load                 0.136831\n",
      "Skydiving                     0.152190\n",
      "Flight Test                   0.354645\n",
      "Executive/corporate           0.624119\n",
      "Public Aircraft               0.730233\n",
      "Aerial Observation            0.921517\n",
      "Ferry                         1.010877\n",
      "Other Work Use                1.305483\n",
      "Positioning                   1.681071\n",
      "Business                      4.825400\n",
      "Aerial Application            5.730163\n",
      "Instructional                12.171011\n",
      "Unknown                      12.353919\n",
      "Personal                     57.382611\n",
      "Name: proportion, dtype: float64\n"
     ]
    }
   ],
   "source": [
    "# Percentage contribution of each purpose of flight\n",
    "purpose_of_flight = df['Purpose.of.flight'].value_counts(normalize = True, ascending = True)*100\n",
    "print(purpose_of_flight)"
   ]
  },
  {
   "cell_type": "code",
   "execution_count": 53,
   "id": "767bcdcd-c900-4a5c-80c7-45ddd380d306",
   "metadata": {},
   "outputs": [
    {
     "data": {
      "image/png": "[encoded data removed]",
      "text/plain": [
       "<Figure size 640x480 with 1 Axes>"
      ]
     },
     "metadata": {},
     "output_type": "display_data"
    }
   ],
   "source": [
    "purpose_of_flight.plot(kind = 'bar', color = 'indigo')\n",
    "plt.title('DISTRIBUTION OF PURPOSE OF FLIGHT')\n",
    "plt.xlabel('Purpose')\n",
    "plt.ylabel('Count')\n",
    "plt.show()\n",
    "                    "
   ]
  },
  {
   "cell_type": "markdown",
   "id": "e592ff97-25b3-4aad-8e8c-5e9410bde37f",
   "metadata": {},
   "source": [
    "## From above, most individuals involved in the accidents were flying due to personal reasons. It has a the highest percentage coverage of 57.38%n"
   ]
  },
  {
   "cell_type": "markdown",
   "id": "6768abe6-2f5e-4af3-820d-6c6351657ca2",
   "metadata": {},
   "source": [
    "# Effects of weather conditions on flight saftey"
   ]
  },
  {
   "cell_type": "code",
   "execution_count": 54,
   "id": "4aece51c-ea45-4d1c-b14c-c28197de2e3c",
   "metadata": {},
   "outputs": [
    {
     "data": {
      "text/plain": [
       "Weather.Condition\n",
       "VMC    63002\n",
       "IMC     4788\n",
       "UNK     3831\n",
       "Name: count, dtype: int64"
      ]
     },
     "execution_count": 54,
     "metadata": {},
     "output_type": "execute_result"
    }
   ],
   "source": [
    "df['Weather.Condition'].value_counts()"
   ]
  },
  {
   "cell_type": "code",
   "execution_count": 55,
   "id": "8c2f8909-69a2-4572-a94d-91764edf8244",
   "metadata": {},
   "outputs": [
    {
     "name": "stdout",
     "output_type": "stream",
     "text": [
      "Weather.Condition\n",
      "VMC    87.96582\n",
      "IMC     6.68519\n",
      "UNK     5.34899\n",
      "Name: proportion, dtype: float64\n"
     ]
    }
   ],
   "source": [
    "# Percentage of each weather condition to selected dataframe\n",
    "percentages = df['Weather.Condition'].value_counts(normalize = True) * 100\n",
    "print(percentages)"
   ]
  },
  {
   "cell_type": "markdown",
   "id": "c1df9fb5-c750-47b3-ae20-56ef6c663c5b",
   "metadata": {},
   "source": [
    "# There are three types of meteorological conditions\n",
    "## VMC (Visual Meteorlogical Conditions)\n",
    "  * Easy navigation by pilots withouth relying on instruments\n",
    "  * Good visibility and clear skies\n",
    "  * VMC total data record was 87.96%\n",
    "\n",
    "## IMC (Instrument Meteorlogical Conditions)\n",
    "  * This is where pilots depend on instruments due to low visibility\n",
    "  * Due to factors such as fogs make the conditions unsuitable for visual flight\n",
    "  * IMC total data record was 6.69%\n",
    "\n",
    "## UNK (Unknown)\n",
    "  * Weather conditions are unclear and may result from missing data entries\n",
    "  * IMC total data record was 5.35%\n",
    "    \n"
   ]
  },
  {
   "cell_type": "code",
   "execution_count": 56,
   "id": "1b687154-07c5-4d78-89dc-a646de421b4c",
   "metadata": {},
   "outputs": [
    {
     "data": {
      "image/png": "[encoded data removed]",
      "text/plain": [
       "<Figure size 600x600 with 1 Axes>"
      ]
     },
     "metadata": {},
     "output_type": "display_data"
    }
   ],
   "source": [
    "df['Weather.Condition'].value_counts().plot.pie(autopct = '%1.1f%%', colors = ['grey','aqua', 'beige'], figsize = (6,6))\n",
    "plt.title('Accident distribution by Weather condition')\n",
    "plt.show()"
   ]
  },
  {
   "cell_type": "markdown",
   "id": "7baf4f44-73a0-429c-9cfb-51a932569184",
   "metadata": {},
   "source": [
    "# From our data, we can conclude that weather does not play a huge role in aviationa accidents since most accidents are prone to happen when there are perfect weather conditions"
   ]
  },
  {
   "cell_type": "markdown",
   "id": "eba6c3f8-bf85-4be4-825d-557653ccc97c",
   "metadata": {},
   "source": [
    "# How common is Injury Severity"
   ]
  },
  {
   "cell_type": "code",
   "execution_count": 57,
   "id": "cfba84f7-1a05-41ab-8017-7df94e71512e",
   "metadata": {},
   "outputs": [
    {
     "data": {
      "image/png": "[encoded data removed]",
      "text/plain": [
       "<Figure size 800x500 with 1 Axes>"
      ]
     },
     "metadata": {},
     "output_type": "display_data"
    }
   ],
   "source": [
    "plt.figure(figsize=(8, 5))\n",
    "df['Injury.Severity'].value_counts().head(10).plot(kind='bar', color='violet')\n",
    "\n",
    "plt.title('Distribution of Injury Severity', fontsize=14)\n",
    "plt.ylabel('Number of Incidents')\n",
    "plt.xlabel('Injury Severity')\n",
    "plt.xticks(rotation=45)\n",
    "plt.tight_layout()\n",
    "plt.show()"
   ]
  },
  {
   "cell_type": "code",
   "execution_count": null,
   "id": "6e61bcc4-2656-48c2-b98f-824dad07834d",
   "metadata": {},
   "outputs": [],
   "source": []
  },
  {
   "cell_type": "markdown",
   "id": "8ac8a839-c3b4-425d-9657-1579cd44cb01",
   "metadata": {},
   "source": [
    "# Relationship between accidents and number of engines in a plane"
   ]
  },
  {
   "cell_type": "code",
   "execution_count": 58,
   "id": "f4c3ca93-630b-47b8-96de-0f7c2ea52af9",
   "metadata": {},
   "outputs": [
    {
     "data": {
      "text/plain": [
       "Number.of.Engines\n",
       "1.0    62054\n",
       "2.0     8175\n",
       "0.0      841\n",
       "3.0      277\n",
       "4.0      271\n",
       "8.0        2\n",
       "6.0        1\n",
       "Name: count, dtype: int64"
      ]
     },
     "execution_count": 58,
     "metadata": {},
     "output_type": "execute_result"
    }
   ],
   "source": [
    "df['Number.of.Engines'].value_counts()"
   ]
  },
  {
   "cell_type": "code",
   "execution_count": 59,
   "id": "395ee4d1-d8b4-454e-942b-3d9dc1bb42a2",
   "metadata": {},
   "outputs": [
    {
     "name": "stdout",
     "output_type": "stream",
     "text": [
      "Number.of.Engines\n",
      "1.0    86.642186\n",
      "2.0    11.414250\n",
      "0.0     1.174237\n",
      "3.0     0.386758\n",
      "4.0     0.378381\n",
      "8.0     0.002792\n",
      "6.0     0.001396\n",
      "Name: proportion, dtype: float64\n"
     ]
    }
   ],
   "source": [
    "# calculating the percentage contribution of number of engenies to accidents\n",
    "percentage_contribution = df['Number.of.Engines'].value_counts(normalize = True) * 100\n",
    "print(percentage_contribution)"
   ]
  },
  {
   "cell_type": "markdown",
   "id": "e3ddd337-b276-465b-a238-0e79f02b8421",
   "metadata": {},
   "source": [
    "## planes with 1 engine had the highest number of accidents amounting to 86.65%\n",
    "## planes with 2 engines contributed to 11.41% of the total number of accident\n",
    "## planes with 3 engines of more have a lower percentage of total accidents occured amounting to less than 1%, Aircrafts with higher number of engines have are less prone to accidents\n"
   ]
  },
  {
   "cell_type": "markdown",
   "id": "ecb024a2-2c44-4a84-88f7-9e0b9feafd3a",
   "metadata": {},
   "source": [
    "# Does engine variation affects risks"
   ]
  },
  {
   "cell_type": "code",
   "execution_count": 60,
   "id": "a6cc89c3-8473-49f6-a800-0b9a3d1eddef",
   "metadata": {},
   "outputs": [
    {
     "data": {
      "text/plain": [
       "Engine.Type\n",
       "Reciprocating      58409\n",
       "Unknown             6246\n",
       "Turbo Shaft         2835\n",
       "Turbo Prop          2483\n",
       "Turbo Fan           1211\n",
       "Turbo Jet            421\n",
       "Electric              10\n",
       "NONE                   2\n",
       "Hybrid Rocket          1\n",
       "Geared Turbofan        1\n",
       "LR                     1\n",
       "UNK                    1\n",
       "Name: count, dtype: int64"
      ]
     },
     "execution_count": 60,
     "metadata": {},
     "output_type": "execute_result"
    }
   ],
   "source": [
    "enginetype_counts= df['Engine.Type'].value_counts()\n",
    "enginetype_counts"
   ]
  },
  {
   "cell_type": "code",
   "execution_count": 61,
   "id": "d1dd4dc6-d465-4ade-826d-983536f60843",
   "metadata": {},
   "outputs": [
    {
     "data": {
      "image/png": "[encoded data removed]",
      "text/plain": [
       "<Figure size 1000x600 with 1 Axes>"
      ]
     },
     "metadata": {},
     "output_type": "display_data"
    }
   ],
   "source": [
    "plt.figure(figsize = (10,6))\n",
    "bars = plt.barh(enginetype_counts.index, enginetype_counts.values, color = 'skyblue')\n",
    "plt.xscale('log')\n",
    "plt.xlabel('Number of accidents')\n",
    "plt.title('Engine types accident frequency')\n",
    "plt.tight_layout()\n",
    "plt.show()\n",
    "          "
   ]
  },
  {
   "cell_type": "markdown",
   "id": "0bc9726e-bab2-48f9-921f-81251703b7cd",
   "metadata": {},
   "source": [
    "# The engine that is least prone to accidents is LR\n",
    "# Aircrafts with Reciprocating engine type is more prone to accidents\n",
    "\n"
   ]
  },
  {
   "cell_type": "markdown",
   "id": "6430d0e2-c3ff-4eea-8929-309879e7d25a",
   "metadata": {},
   "source": [
    "# Most common aircraft models\n"
   ]
  },
  {
   "cell_type": "code",
   "execution_count": 62,
   "id": "c1de0dbe-8d1a-40c5-938f-87a4563363ae",
   "metadata": {},
   "outputs": [
    {
     "data": {
      "image/png": "[encoded data removed]",
      "text/plain": [
       "<Figure size 640x480 with 1 Axes>"
      ]
     },
     "metadata": {},
     "output_type": "display_data"
    }
   ],
   "source": [
    "most_common = df.groupby(['Make', 'Model']).size().sort_values(ascending = False).head(10)\n",
    "most_common.plot(kind = 'barh', color = 'turquoise')\n",
    "plt.title('TOP 10 MOST COMMON AIRCRAFTS')\n",
    "plt.xlabel('NUMBER OF INCIDENTS')\n",
    "plt.tight_layout()\n",
    "plt.show()\n",
    "\n"
   ]
  },
  {
   "cell_type": "markdown",
   "id": "469ae24a-df48-4410-9801-8eb89c369b7b",
   "metadata": {},
   "source": [
    "# From the above data we can conclude that cessna is the most common aircraft but it depends with the model"
   ]
  },
  {
   "cell_type": "markdown",
   "id": "572eae8a-4b4e-49b4-96a7-752d7bd32b64",
   "metadata": {},
   "source": [
    "# Identifying aircraft that are more accident prone to others thus assisting us in decision making "
   ]
  },
  {
   "cell_type": "code",
   "execution_count": 63,
   "id": "ddfbb2ab-e478-427e-8a84-8bd57a46fc14",
   "metadata": {},
   "outputs": [
    {
     "data": {
      "text/plain": [
       "Make\n",
       "CESSNA           22795\n",
       "PIPER            12568\n",
       "BEECH             4432\n",
       "BELL              2197\n",
       "BOEING            1282\n",
       "                 ...  \n",
       "TOMAN                1\n",
       "DEHAAN               1\n",
       "BEN TRAVIS           1\n",
       "NATIONS              1\n",
       "ORLICAN S R O        1\n",
       "Name: count, Length: 6305, dtype: int64"
      ]
     },
     "execution_count": 63,
     "metadata": {},
     "output_type": "execute_result"
    }
   ],
   "source": [
    "makes = df['Make'].value_counts()\n",
    "makes"
   ]
  },
  {
   "cell_type": "code",
   "execution_count": 64,
   "id": "98cf8610-d623-4c52-8198-03c73b5b036a",
   "metadata": {},
   "outputs": [
    {
     "name": "stdout",
     "output_type": "stream",
     "text": [
      "Make\n",
      "CESSNA           31.827257\n",
      "PIPER            17.547926\n",
      "BEECH             6.188129\n",
      "BELL              3.067536\n",
      "BOEING            1.789978\n",
      "                   ...    \n",
      "TOMAN             0.001396\n",
      "DEHAAN            0.001396\n",
      "BEN TRAVIS        0.001396\n",
      "NATIONS           0.001396\n",
      "ORLICAN S R O     0.001396\n",
      "Name: proportion, Length: 6305, dtype: float64\n"
     ]
    }
   ],
   "source": [
    "percentages = df['Make'].value_counts(normalize = True) * 100\n",
    "print(percentages)"
   ]
  },
  {
   "cell_type": "code",
   "execution_count": 65,
   "id": "23b0dfd9-4887-45d4-a588-5f7bc8c6c6d3",
   "metadata": {},
   "outputs": [
    {
     "data": {
      "text/plain": [
       "Make\n",
       "SALIBA               1\n",
       "MURRAY R. GARDNER    1\n",
       "HORNBECK             1\n",
       "CROZIER              1\n",
       "POSKUS               1\n",
       "TOMAN                1\n",
       "DEHAAN               1\n",
       "BEN TRAVIS           1\n",
       "NATIONS              1\n",
       "ORLICAN S R O        1\n",
       "Name: count, dtype: int64"
      ]
     },
     "execution_count": 65,
     "metadata": {},
     "output_type": "execute_result"
    }
   ],
   "source": [
    "top_10_makes = makes.tail(10)\n",
    "top_10_makes"
   ]
  },
  {
   "cell_type": "code",
   "execution_count": 77,
   "id": "9c8603fa-db76-41f1-adc2-995573b3d046",
   "metadata": {},
   "outputs": [
    {
     "data": {
      "image/png": "[encoded data removed]",
      "text/plain": [
       "<Figure size 640x480 with 1 Axes>"
      ]
     },
     "metadata": {},
     "output_type": "display_data"
    },
    {
     "data": {
      "text/plain": [
       "<Figure size 640x480 with 0 Axes>"
      ]
     },
     "metadata": {},
     "output_type": "display_data"
    }
   ],
   "source": [
    "top_10_makes = df.groupby(['Make']).size().sort_values(ascending = True).tail(10)\n",
    "top_10_makes.plot(kind = 'barh', color = 'teal')\n",
    "plt.title('BOTTOM 10 MAKES')\n",
    "plt.xlabel('COUNT')\n",
    "plt.tight_layout()\n",
    "plt.show()\n",
    "plt.savefig('Make.pdf', dpi=400)\n"
   ]
  },
  {
   "cell_type": "markdown",
   "id": "e714f92c-e54e-4e6f-ab32-b75bd77aeab7",
   "metadata": {},
   "source": [
    "# The Correlation Between aircraft make and the damage"
   ]
  },
  {
   "cell_type": "code",
   "execution_count": 67,
   "id": "74591c29-2189-415f-8baa-b9463bcad4f9",
   "metadata": {},
   "outputs": [
    {
     "data": {
      "text/plain": [
       "Aircraft.damage\n",
       "Substantial    53439\n",
       "Destroyed      15757\n",
       "Minor           2306\n",
       "Unknown          119\n",
       "Name: count, dtype: int64"
      ]
     },
     "execution_count": 67,
     "metadata": {},
     "output_type": "execute_result"
    }
   ],
   "source": [
    "df['Aircraft.damage'].value_counts()"
   ]
  },
  {
   "cell_type": "code",
   "execution_count": 68,
   "id": "7358a453-ed99-4dfe-ad3d-81883d6f6df2",
   "metadata": {},
   "outputs": [
    {
     "data": {
      "text/plain": [
       "Make\n",
       "CESSNA           22795\n",
       "PIPER            12568\n",
       "BEECH             4432\n",
       "BELL              2197\n",
       "BOEING            1282\n",
       "                 ...  \n",
       "TOMAN                1\n",
       "DEHAAN               1\n",
       "BEN TRAVIS           1\n",
       "NATIONS              1\n",
       "ORLICAN S R O        1\n",
       "Name: count, Length: 6305, dtype: int64"
      ]
     },
     "execution_count": 68,
     "metadata": {},
     "output_type": "execute_result"
    }
   ],
   "source": [
    "df['Make'].value_counts()"
   ]
  },
  {
   "cell_type": "code",
   "execution_count": 69,
   "id": "b95672cd-7764-4943-9183-6ce8ac52202d",
   "metadata": {},
   "outputs": [
    {
     "data": {
      "text/html": [
       "<div>\n",
       "<style scoped>\n",
       "    .dataframe tbody tr th:only-of-type {\n",
       "        vertical-align: middle;\n",
       "    }\n",
       "\n",
       "    .dataframe tbody tr th {\n",
       "        vertical-align: top;\n",
       "    }\n",
       "\n",
       "    .dataframe thead th {\n",
       "        text-align: right;\n",
       "    }\n",
       "</style>\n",
       "<table border=\"1\" class=\"dataframe\">\n",
       "  <thead>\n",
       "    <tr style=\"text-align: right;\">\n",
       "      <th>Aircraft.damage</th>\n",
       "      <th>Destroyed</th>\n",
       "      <th>Minor</th>\n",
       "      <th>Substantial</th>\n",
       "      <th>Unknown</th>\n",
       "    </tr>\n",
       "    <tr>\n",
       "      <th>Make</th>\n",
       "      <th></th>\n",
       "      <th></th>\n",
       "      <th></th>\n",
       "      <th></th>\n",
       "    </tr>\n",
       "  </thead>\n",
       "  <tbody>\n",
       "    <tr>\n",
       "      <th>177MF LLC</th>\n",
       "      <td>0</td>\n",
       "      <td>0</td>\n",
       "      <td>1</td>\n",
       "      <td>0</td>\n",
       "    </tr>\n",
       "    <tr>\n",
       "      <th>1ST FTR GP</th>\n",
       "      <td>1</td>\n",
       "      <td>0</td>\n",
       "      <td>0</td>\n",
       "      <td>0</td>\n",
       "    </tr>\n",
       "    <tr>\n",
       "      <th>2007 SAVAGE AIR LLC</th>\n",
       "      <td>0</td>\n",
       "      <td>1</td>\n",
       "      <td>0</td>\n",
       "      <td>0</td>\n",
       "    </tr>\n",
       "    <tr>\n",
       "      <th>2021FX3 LLC</th>\n",
       "      <td>0</td>\n",
       "      <td>0</td>\n",
       "      <td>2</td>\n",
       "      <td>0</td>\n",
       "    </tr>\n",
       "    <tr>\n",
       "      <th>3XTRIM</th>\n",
       "      <td>1</td>\n",
       "      <td>0</td>\n",
       "      <td>0</td>\n",
       "      <td>0</td>\n",
       "    </tr>\n",
       "    <tr>\n",
       "      <th>...</th>\n",
       "      <td>...</td>\n",
       "      <td>...</td>\n",
       "      <td>...</td>\n",
       "      <td>...</td>\n",
       "    </tr>\n",
       "    <tr>\n",
       "      <th>ZUBAIR S KHAN</th>\n",
       "      <td>0</td>\n",
       "      <td>0</td>\n",
       "      <td>1</td>\n",
       "      <td>0</td>\n",
       "    </tr>\n",
       "    <tr>\n",
       "      <th>ZUBER THOMAS P</th>\n",
       "      <td>0</td>\n",
       "      <td>0</td>\n",
       "      <td>1</td>\n",
       "      <td>0</td>\n",
       "    </tr>\n",
       "    <tr>\n",
       "      <th>ZUKOWSKI</th>\n",
       "      <td>0</td>\n",
       "      <td>0</td>\n",
       "      <td>1</td>\n",
       "      <td>0</td>\n",
       "    </tr>\n",
       "    <tr>\n",
       "      <th>ZWART</th>\n",
       "      <td>0</td>\n",
       "      <td>0</td>\n",
       "      <td>1</td>\n",
       "      <td>0</td>\n",
       "    </tr>\n",
       "    <tr>\n",
       "      <th>ZWICKER MURRAY R</th>\n",
       "      <td>0</td>\n",
       "      <td>0</td>\n",
       "      <td>1</td>\n",
       "      <td>0</td>\n",
       "    </tr>\n",
       "  </tbody>\n",
       "</table>\n",
       "<p>6305 rows × 4 columns</p>\n",
       "</div>"
      ],
      "text/plain": [
       "Aircraft.damage      Destroyed  Minor  Substantial  Unknown\n",
       "Make                                                       \n",
       "177MF LLC                    0      0            1        0\n",
       "1ST FTR GP                   1      0            0        0\n",
       "2007 SAVAGE AIR LLC          0      1            0        0\n",
       "2021FX3 LLC                  0      0            2        0\n",
       "3XTRIM                       1      0            0        0\n",
       "...                        ...    ...          ...      ...\n",
       "ZUBAIR S KHAN                0      0            1        0\n",
       "ZUBER THOMAS P               0      0            1        0\n",
       "ZUKOWSKI                     0      0            1        0\n",
       "ZWART                        0      0            1        0\n",
       "ZWICKER MURRAY R             0      0            1        0\n",
       "\n",
       "[6305 rows x 4 columns]"
      ]
     },
     "execution_count": 69,
     "metadata": {},
     "output_type": "execute_result"
    }
   ],
   "source": [
    "# Vuisualization of the data\n",
    "damage = pd.crosstab(df['Make'], df['Aircraft.damage'])\n",
    "damage"
   ]
  },
  {
   "cell_type": "code",
   "execution_count": 70,
   "id": "3198b9ba-0cb7-4fa2-894a-27ba11ab3a7d",
   "metadata": {},
   "outputs": [
    {
     "data": {
      "image/png": "[encoded data removed]",
      "text/plain": [
       "<Figure size 1000x600 with 1 Axes>"
      ]
     },
     "metadata": {},
     "output_type": "display_data"
    }
   ],
   "source": [
    "plt.figure(figsize=(10,6))\n",
    "sns.countplot(data= df.head(10), x= 'Make', hue= 'Aircraft.damage', palette='Set2')\n",
    "plt.title('Aircraft Damage by make')\n",
    "plt.xlabel('Aircraft Make')\n",
    "plt.ylabel('Number of incidents')\n",
    "plt.xticks(rotation = 45)\n",
    "plt.legend(title= 'Damage type')\n",
    "plt.tight_layout()\n",
    "plt.show()"
   ]
  },
  {
   "cell_type": "markdown",
   "id": "4d6847f4-6b9f-42ba-aef6-12af88148612",
   "metadata": {},
   "source": [
    "# There is no corelation between the make of an aircraft make and Aircraft impact of damage since accidents had an impact on all aircrafts"
   ]
  },
  {
   "cell_type": "markdown",
   "id": "d8abcb2b-7722-4e1f-a38f-714958d5bad0",
   "metadata": {},
   "source": [
    "# Conclusion\n",
    "* During the first decades air transport was not a common use of transport , due to the rising growth in the aviation industry some problems started to occur\n",
    "* There was an increase in the use of air transport but we notice a trend that accidents increased due to the growth in the aviation industry as also  witnessed in the following years, but as time went by the number of accidents reduced\n",
    "* Most accidents involved are usually flights that are designated for personal use\n",
    "* Weather conditions did not play a big role in aircraft accidents \n",
    "* Aircrafts with one engine have a higher accident rate making aircrafts with more than one engine wich are safer\n",
    "* Aircrafts with the engine type LR are safer\n",
    "\n",
    "# Recommendations\n",
    "* I would recommend Beech because they are less accident prone and has lesser damage\n",
    "* I would also recommend aircrafts with two engines or more sice they are safer  \n",
    "\n",
    "# Conclussion\n",
    "* Aviation industry has become more popular, safe and a good budiness venture idea i would recomend the business to concider in investing in the aviation industry \n",
    "\n",
    "sj"
   ]
  },
  {
   "cell_type": "code",
   "execution_count": 78,
   "id": "7b667a23-07ae-4d3d-b35f-76e2be92c06e",
   "metadata": {},
   "outputs": [],
   "source": [
    "df.to_excel('FINAL_2_aviation_data.xlsx', index=False)"
   ]
  },
  {
   "cell_type": "code",
   "execution_count": null,
   "id": "882d9565-fd91-4ae4-9a85-72d0d0796605",
   "metadata": {},
   "outputs": [],
   "source": []
  }
 ],
 "metadata": {
  "kernelspec": {
   "display_name": "Python 3 (ipykernel)",
   "language": "python",
   "name": "python3"
  },
  "language_info": {
   "codemirror_mode": {
    "name": "ipython",
    "version": 3
   },
   "file_extension": ".py",
   "mimetype": "text/x-python",
   "name": "python",
   "nbconvert_exporter": "python",
   "pygments_lexer": "ipython3",
   "version": "3.11.7"
  }
 },
 "nbformat": 4,
 "nbformat_minor": 5
}
